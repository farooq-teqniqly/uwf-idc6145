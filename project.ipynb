{
  "nbformat": 4,
  "nbformat_minor": 0,
  "metadata": {
    "colab": {
      "provenance": [],
      "toc_visible": true
    },
    "kernelspec": {
      "name": "python3",
      "display_name": "Python 3"
    },
    "language_info": {
      "name": "python"
    }
  },
  "cells": [
    {
      "cell_type": "markdown",
      "source": [
        "# Preamble"
      ],
      "metadata": {
        "id": "Wzp9Y-Bkz77G"
      }
    },
    {
      "cell_type": "code",
      "source": [
        "from google.colab import drive\n",
        "drive.mount(\"/content/drive\")"
      ],
      "metadata": {
        "id": "fX0X-UeMtRFj",
        "outputId": "5828a6a8-c185-41b3-ca89-b2c6401a7938",
        "colab": {
          "base_uri": "https://localhost:8080/"
        }
      },
      "execution_count": 8,
      "outputs": [
        {
          "output_type": "stream",
          "name": "stdout",
          "text": [
            "Drive already mounted at /content/drive; to attempt to forcibly remount, call drive.mount(\"/content/drive\", force_remount=True).\n"
          ]
        }
      ]
    },
    {
      "cell_type": "code",
      "execution_count": 9,
      "metadata": {
        "colab": {
          "base_uri": "https://localhost:8080/"
        },
        "id": "gCEnpzIzxn6o",
        "outputId": "a18e9449-6eae-4cc0-a8f2-3cde0967a458"
      },
      "outputs": [
        {
          "output_type": "stream",
          "name": "stdout",
          "text": [
            "Requirement already satisfied: pyspark in /usr/local/lib/python3.11/dist-packages (3.5.5)\n",
            "Requirement already satisfied: py4j==0.10.9.7 in /usr/local/lib/python3.11/dist-packages (from pyspark) (0.10.9.7)\n"
          ]
        }
      ],
      "source": [
        "!pip install pyspark\n",
        "from pyspark.sql import SparkSession"
      ]
    },
    {
      "cell_type": "code",
      "source": [
        "spark = SparkSession.builder.master(\"local[*]\").appName(\"IDC6145-project\").getOrCreate()"
      ],
      "metadata": {
        "id": "i_yjHdkRyo3f"
      },
      "execution_count": 10,
      "outputs": []
    },
    {
      "cell_type": "markdown",
      "source": [
        "# Load the data"
      ],
      "metadata": {
        "id": "9PFOjPdWz11d"
      }
    },
    {
      "cell_type": "code",
      "source": [
        "data_directory = \"/content/drive/MyDrive/datasets/nyc-taxi/\"\n",
        "df = spark.read.format(\"parquet\").option(\"recursiveFileLookup\", \"true\").load(data_directory)"
      ],
      "metadata": {
        "id": "cTMsXsMQx9D5"
      },
      "execution_count": 4,
      "outputs": []
    },
    {
      "cell_type": "markdown",
      "source": [
        "# Remove unecessary columns"
      ],
      "metadata": {
        "id": "a7DKei85_1-N"
      }
    },
    {
      "cell_type": "code",
      "source": [
        "keep_columns = [\"hvfhs_license_num\", \"pickup_datetime\", \"trip_miles\", \"trip_time\", \"congestion_surcharge\"]\n",
        "df_min = df.select(*keep_columns)\n",
        "df_min.printSchema()"
      ],
      "metadata": {
        "id": "dwkx0VYe_6je",
        "outputId": "f727757a-a5f2-4b54-8ab4-36886a963e14",
        "colab": {
          "base_uri": "https://localhost:8080/"
        }
      },
      "execution_count": 11,
      "outputs": [
        {
          "output_type": "stream",
          "name": "stdout",
          "text": [
            "root\n",
            " |-- hvfhs_license_num: string (nullable = true)\n",
            " |-- pickup_datetime: timestamp_ntz (nullable = true)\n",
            " |-- trip_miles: double (nullable = true)\n",
            " |-- trip_time: long (nullable = true)\n",
            " |-- congestion_surcharge: double (nullable = true)\n",
            "\n"
          ]
        }
      ]
    },
    {
      "cell_type": "markdown",
      "source": [
        "# Add derived columns"
      ],
      "metadata": {
        "id": "h4zpEWb-i9Bj"
      }
    },
    {
      "cell_type": "code",
      "source": [
        "from pyspark.sql.functions import col, hour, date_format\n",
        "\n",
        "# Trip duration in minutes\n",
        "df_min = df_min.withColumn(\"trip_duration_min\", col(\"trip_time\") / 60)\n",
        "\n",
        "# Average trip speed\n",
        "df_min = df_min.withColumn(\"avg_speed_mph\", (col(\"trip_miles\") / (col(\"trip_time\") / 3600)))\n",
        "\n",
        "# Trip hour of day\n",
        "df_min = df_min.withColumn(\"pickup_hour\", hour(\"pickup_datetime\"))\n",
        "\n",
        "# Trip day of week\n",
        "df_min = df_min.withColumn(\"pickup_day\", date_format(\"pickup_datetime\", \"E\"))"
      ],
      "metadata": {
        "id": "1wNDJDm0jBrA"
      },
      "execution_count": 15,
      "outputs": []
    },
    {
      "cell_type": "markdown",
      "source": [
        "# Data cleaning"
      ],
      "metadata": {
        "id": "FBUhJAeC2lZi"
      }
    },
    {
      "cell_type": "markdown",
      "source": [
        "## Remove zero or negative trip durations"
      ],
      "metadata": {
        "id": "MAuZPqYK2xJN"
      }
    },
    {
      "cell_type": "code",
      "source": [
        "df_clean = df_min.filter(\n",
        "    (col(\"trip_duration_min\") > 0) &\n",
        "    (col(\"trip_miles\") > 0) &\n",
        "    (col(\"avg_speed_mph\") > 0)\n",
        ")"
      ],
      "metadata": {
        "id": "wSSMFLhQ20xg"
      },
      "execution_count": 16,
      "outputs": []
    },
    {
      "cell_type": "markdown",
      "source": [
        "## Remove duration, distance, and speed outliers\n",
        "- Remove trips longer than 2 hours and shorter than 1 minute.\n",
        "- Remove trips longer than 100 miles and less than 0.1 miles.\n",
        "- Remove average speed of greater than 80 mph and less than 1 mph."
      ],
      "metadata": {
        "id": "EnufpipN24_e"
      }
    },
    {
      "cell_type": "code",
      "source": [
        "df_clean = df_clean.filter(\n",
        "    (col(\"trip_duration_min\") <= 120) &\n",
        "    (col(\"trip_duration_min\") >= 1) &\n",
        "    (col(\"trip_miles\") <= 100) &\n",
        "    (col(\"trip_miles\") >= 0.1) &\n",
        "    (col(\"avg_speed_mph\") <= 80) &\n",
        "    (col(\"avg_speed_mph\") >= 1)\n",
        ")"
      ],
      "metadata": {
        "id": "XYdcAeIK22uT"
      },
      "execution_count": 17,
      "outputs": []
    },
    {
      "cell_type": "markdown",
      "source": [
        "## Check IQR"
      ],
      "metadata": {
        "id": "hiI9Ek0u82L9"
      }
    },
    {
      "cell_type": "code",
      "source": [
        "columns_to_check = [\"trip_duration_min\", \"trip_miles\", \"avg_speed_mph\"]\n",
        "iqr_dict = {}\n",
        "\n",
        "for col_name in columns_to_check:\n",
        "    q1, q3 = df_clean.approxQuantile(col_name, [0.25, 0.75], 0.01)\n",
        "    iqr = q3 - q1\n",
        "    iqr_dict[col_name] = (q1, q3, iqr)\n",
        "    print(f\"IQR for {col_name}: {iqr_dict[col_name][2]}\")\n",
        "    print(f\"  Q1 for {col_name}: {iqr_dict[col_name][0]}\")\n",
        "    print(f\"  Q3 for {col_name}: {iqr_dict[col_name][1]}\")"
      ],
      "metadata": {
        "colab": {
          "base_uri": "https://localhost:8080/"
        },
        "id": "Dq-1O0aM6yJj",
        "outputId": "d6f173e2-5410-4219-bd5f-3b9aa9b1ef28"
      },
      "execution_count": 18,
      "outputs": [
        {
          "output_type": "stream",
          "name": "stdout",
          "text": [
            "IQR for trip_duration_min: 15.799999999999999\n",
            "  Q1 for trip_duration_min: 10.016666666666667\n",
            "  Q3 for trip_duration_min: 25.816666666666666\n",
            "IQR for trip_miles: 4.746\n",
            "  Q1 for trip_miles: 1.56\n",
            "  Q3 for trip_miles: 6.306\n",
            "IQR for avg_speed_mph: 7.663284078867818\n",
            "  Q1 for avg_speed_mph: 8.683417085427134\n",
            "  Q3 for avg_speed_mph: 16.346701164294952\n"
          ]
        }
      ]
    },
    {
      "cell_type": "markdown",
      "source": [
        "## Filter data based on IQR"
      ],
      "metadata": {
        "id": "rYjnkCKu9J2Q"
      }
    },
    {
      "cell_type": "code",
      "source": [
        "iqr_duration = iqr_dict[\"trip_duration_min\"][2]\n",
        "iqr_miles = iqr_dict[\"trip_miles\"][2]\n",
        "iqr_speed = iqr_dict[\"avg_speed_mph\"][2]\n",
        "\n",
        "iqr_factor = 1.5\n",
        "\n",
        "iqr_duration_15 = iqr_factor * iqr_duration\n",
        "iqr_miles_15 = iqr_factor * iqr_miles\n",
        "iqr_speed_15 = iqr_factor * iqr_speed\n",
        "\n",
        "duration_upper = iqr_dict[\"trip_duration_min\"][1] + iqr_duration_15\n",
        "miles_upper = iqr_dict[\"trip_miles\"][1] + iqr_miles_15\n",
        "speed_upper = iqr_dict[\"avg_speed_mph\"][1] + iqr_speed_15\n",
        "\n",
        "df_final = df_clean.filter(\n",
        "    (col(\"trip_duration_min\") <= duration_upper) &\n",
        "    (col(\"trip_miles\") <= miles_upper) &\n",
        "    (col(\"avg_speed_mph\") <= speed_upper)\n",
        ")"
      ],
      "metadata": {
        "id": "B1hz3ywP7q4N"
      },
      "execution_count": 19,
      "outputs": []
    },
    {
      "cell_type": "markdown",
      "source": [
        "# Map the license numbers to trip providers"
      ],
      "metadata": {
        "id": "2nkB_snTGKMn"
      }
    },
    {
      "cell_type": "code",
      "source": [
        "from pyspark.sql.functions import when\n",
        "\n",
        "df_final = df_final.withColumn(\n",
        "    \"trip_provider\",\n",
        "    when(col(\"hvfhs_license_num\") == \"HV0002\", \"J\")\n",
        "    .when(col(\"hvfhs_license_num\") == \"HV0003\", \"U\")\n",
        "    .when(col(\"hvfhs_license_num\") == \"HV0004\", \"V\")\n",
        "    .when(col(\"hvfhs_license_num\") == \"HV0005\", \"L\")\n",
        "    .otherwise(\"Unknown\")\n",
        ")\n",
        "\n",
        "df_final = df_final.drop(\"hvfhs_license_num\")\n",
        "\n",
        "df_final.groupBy(\"trip_provider\").count().show()"
      ],
      "metadata": {
        "colab": {
          "base_uri": "https://localhost:8080/"
        },
        "id": "T1Me7MIqGOvO",
        "outputId": "73fced36-83bc-43fa-811d-25bbe9cc2ced"
      },
      "execution_count": 20,
      "outputs": [
        {
          "output_type": "stream",
          "name": "stdout",
          "text": [
            "+-------------+---------+\n",
            "|trip_provider|    count|\n",
            "+-------------+---------+\n",
            "|            L| 53650389|\n",
            "|            U|158093467|\n",
            "+-------------+---------+\n",
            "\n"
          ]
        }
      ]
    },
    {
      "cell_type": "markdown",
      "source": [
        "# Preview data"
      ],
      "metadata": {
        "id": "JBzgphhe0BKI"
      }
    },
    {
      "cell_type": "code",
      "source": [
        "df.show(10, truncate=False)"
      ],
      "metadata": {
        "id": "d3TDMW5gyKXY",
        "colab": {
          "base_uri": "https://localhost:8080/"
        },
        "outputId": "bbb27f22-5092-40c7-b362-997361eeb562"
      },
      "execution_count": null,
      "outputs": [
        {
          "output_type": "stream",
          "name": "stdout",
          "text": [
            "+-----------------+--------------------+--------------------+-------------------+-------------------+-------------------+-------------------+------------+------------+----------+---------+-------------------+-----+----+---------+--------------------+-----------+----+----------+-------------------+-----------------+------------------+----------------+--------------+\n",
            "|hvfhs_license_num|dispatching_base_num|originating_base_num|request_datetime   |on_scene_datetime  |pickup_datetime    |dropoff_datetime   |PULocationID|DOLocationID|trip_miles|trip_time|base_passenger_fare|tolls|bcf |sales_tax|congestion_surcharge|airport_fee|tips|driver_pay|shared_request_flag|shared_match_flag|access_a_ride_flag|wav_request_flag|wav_match_flag|\n",
            "+-----------------+--------------------+--------------------+-------------------+-------------------+-------------------+-------------------+------------+------------+----------+---------+-------------------+-----+----+---------+--------------------+-----------+----+----------+-------------------+-----------------+------------------+----------------+--------------+\n",
            "|HV0003           |B03404              |B03404              |2024-01-01 00:21:47|2024-01-01 00:25:06|2024-01-01 00:28:08|2024-01-01 01:05:39|161         |158         |2.83      |2251     |45.61              |0.0  |1.25|4.05     |2.75                |0.0        |0.0 |40.18     |N                  |N                |N                 |N               |N             |\n",
            "|HV0003           |B03404              |B03404              |2024-01-01 00:10:56|2024-01-01 00:11:08|2024-01-01 00:12:53|2024-01-01 00:20:05|137         |79          |1.57      |432      |10.05              |0.0  |0.28|0.89     |2.75                |0.0        |0.0 |6.12      |N                  |N                |N                 |N               |N             |\n",
            "|HV0003           |B03404              |B03404              |2024-01-01 00:20:04|2024-01-01 00:21:51|2024-01-01 00:23:05|2024-01-01 00:35:16|79          |186         |1.98      |731      |18.07              |0.0  |0.5 |1.6      |2.75                |0.0        |0.0 |9.47      |N                  |N                |N                 |N               |N             |\n",
            "|HV0003           |B03404              |B03404              |2024-01-01 00:35:46|2024-01-01 00:39:59|2024-01-01 00:41:04|2024-01-01 00:56:34|234         |148         |1.99      |930      |17.17              |0.0  |0.47|1.52     |2.75                |0.0        |0.0 |11.35     |N                  |N                |N                 |N               |N             |\n",
            "|HV0003           |B03404              |B03404              |2024-01-01 00:48:19|2024-01-01 00:56:23|2024-01-01 00:57:21|2024-01-01 01:10:02|148         |97          |2.65      |761      |38.67              |0.0  |1.06|3.43     |2.75                |0.0        |0.0 |28.63     |N                  |N                |N                 |N               |N             |\n",
            "|HV0003           |B03404              |B03404              |2024-01-01 00:03:47|2024-01-01 00:05:53|2024-01-01 00:06:15|2024-01-01 00:27:53|255         |95          |7.02      |1298     |32.16              |0.0  |0.88|2.85     |0.0                 |0.0        |0.0 |24.35     |N                  |N                |N                 |N               |Y             |\n",
            "|HV0003           |B03404              |B03404              |2024-01-01 00:22:51|2024-01-01 00:29:17|2024-01-01 00:29:47|2024-01-01 00:50:08|95          |212         |11.33     |1221     |45.83              |6.94 |1.45|4.68     |0.0                 |0.0        |0.0 |30.98     |N                  |N                |N                 |N               |Y             |\n",
            "|HV0003           |B03404              |B03404              |2024-01-01 00:45:34|2024-01-01 00:57:29|2024-01-01 00:57:50|2024-01-01 01:11:27|213         |47          |3.43      |817      |23.23              |0.0  |0.64|2.06     |0.0                 |0.0        |0.0 |20.73     |N                  |N                |N                 |N               |Y             |\n",
            "|HV0003           |B03404              |B03404              |2024-01-01 00:11:51|2024-01-01 00:15:46|2024-01-01 00:16:00|2024-01-01 00:28:13|209         |114         |1.54      |733      |15.42              |0.0  |0.42|1.37     |2.75                |0.0        |0.0 |10.4      |N                  |N                |N                 |N               |Y             |\n",
            "|HV0003           |B03404              |B03404              |2024-01-01 00:26:48|2024-01-01 00:33:02|2024-01-01 00:33:15|2024-01-01 00:46:39|113         |209         |1.72      |804      |13.65              |0.0  |0.38|1.21     |2.75                |0.0        |0.0 |11.38     |N                  |N                |N                 |N               |Y             |\n",
            "+-----------------+--------------------+--------------------+-------------------+-------------------+-------------------+-------------------+------------+------------+----------+---------+-------------------+-----+----+---------+--------------------+-----------+----+----------+-------------------+-----------------+------------------+----------------+--------------+\n",
            "only showing top 10 rows\n",
            "\n"
          ]
        }
      ]
    },
    {
      "cell_type": "markdown",
      "source": [
        "# Check schema"
      ],
      "metadata": {
        "id": "ykCyALik0DGe"
      }
    },
    {
      "cell_type": "code",
      "source": [
        "df.printSchema()"
      ],
      "metadata": {
        "id": "OaEddHSiy4BS",
        "colab": {
          "base_uri": "https://localhost:8080/"
        },
        "outputId": "573efdfc-d6b5-4ac4-dd5f-6947e34659e2"
      },
      "execution_count": null,
      "outputs": [
        {
          "output_type": "stream",
          "name": "stdout",
          "text": [
            "root\n",
            " |-- hvfhs_license_num: string (nullable = true)\n",
            " |-- dispatching_base_num: string (nullable = true)\n",
            " |-- originating_base_num: string (nullable = true)\n",
            " |-- request_datetime: timestamp_ntz (nullable = true)\n",
            " |-- on_scene_datetime: timestamp_ntz (nullable = true)\n",
            " |-- pickup_datetime: timestamp_ntz (nullable = true)\n",
            " |-- dropoff_datetime: timestamp_ntz (nullable = true)\n",
            " |-- PULocationID: integer (nullable = true)\n",
            " |-- DOLocationID: integer (nullable = true)\n",
            " |-- trip_miles: double (nullable = true)\n",
            " |-- trip_time: long (nullable = true)\n",
            " |-- base_passenger_fare: double (nullable = true)\n",
            " |-- tolls: double (nullable = true)\n",
            " |-- bcf: double (nullable = true)\n",
            " |-- sales_tax: double (nullable = true)\n",
            " |-- congestion_surcharge: double (nullable = true)\n",
            " |-- airport_fee: double (nullable = true)\n",
            " |-- tips: double (nullable = true)\n",
            " |-- driver_pay: double (nullable = true)\n",
            " |-- shared_request_flag: string (nullable = true)\n",
            " |-- shared_match_flag: string (nullable = true)\n",
            " |-- access_a_ride_flag: string (nullable = true)\n",
            " |-- wav_request_flag: string (nullable = true)\n",
            " |-- wav_match_flag: string (nullable = true)\n",
            "\n"
          ]
        }
      ]
    },
    {
      "cell_type": "markdown",
      "source": [
        "# Save the final, cleaned dataset"
      ],
      "metadata": {
        "id": "W-IqvFONDu2D"
      }
    },
    {
      "cell_type": "code",
      "source": [
        "final_path = \"/content/drive/MyDrive/datasets/fhvhv_tripdata_2024_final.parquet\"\n",
        "df_final.write.parquet(final_path, mode=\"overwrite\")"
      ],
      "metadata": {
        "id": "x_XsdyAk9aoD"
      },
      "execution_count": 22,
      "outputs": []
    },
    {
      "cell_type": "markdown",
      "source": [
        "# Exploratory analysis"
      ],
      "metadata": {
        "id": "Deoz5JSz0HlG"
      }
    },
    {
      "cell_type": "markdown",
      "source": [
        "## Get number of trips"
      ],
      "metadata": {
        "id": "ZnECekDn0LR9"
      }
    },
    {
      "cell_type": "code",
      "source": [
        "df_min.count()"
      ],
      "metadata": {
        "colab": {
          "base_uri": "https://localhost:8080/"
        },
        "id": "cAvFasN5y73w",
        "outputId": "3f469535-fdbe-45a8-e68d-9d9cb731e464"
      },
      "execution_count": 6,
      "outputs": [
        {
          "output_type": "execute_result",
          "data": {
            "text/plain": [
              "239470448"
            ]
          },
          "metadata": {},
          "execution_count": 6
        }
      ]
    },
    {
      "cell_type": "markdown",
      "source": [
        "## Check range of trip dates"
      ],
      "metadata": {
        "id": "8fD6C7640SNK"
      }
    },
    {
      "cell_type": "code",
      "source": [
        "from pyspark.sql.functions import min, max\n",
        "\n",
        "df_min.select(\n",
        "    min(\"pickup_datetime\").alias(\"earliest_pickup\"),\n",
        "    max(\"pickup_datetime\").alias(\"latest_pickup\")\n",
        ").show()\n"
      ],
      "metadata": {
        "colab": {
          "base_uri": "https://localhost:8080/"
        },
        "id": "8ZAko8cKy_gh",
        "outputId": "98746e34-6cbc-47c2-ee53-dcf3b5d9ff4a"
      },
      "execution_count": null,
      "outputs": [
        {
          "output_type": "stream",
          "name": "stdout",
          "text": [
            "+-------------------+-------------------+\n",
            "|    earliest_pickup|      latest_pickup|\n",
            "+-------------------+-------------------+\n",
            "|2024-01-01 00:00:00|2024-12-31 23:59:59|\n",
            "+-------------------+-------------------+\n",
            "\n"
          ]
        }
      ]
    },
    {
      "cell_type": "markdown",
      "source": [
        "## Trip duration in minutes"
      ],
      "metadata": {
        "id": "4SeC3HkR0Xnc"
      }
    },
    {
      "cell_type": "code",
      "source": [
        "from pyspark.sql.functions import col\n",
        "\n",
        "df_min = df_min.withColumn(\"trip_duration_min\", col(\"trip_time\") / 60)\n",
        "df_min.select(\"trip_duration_min\", \"trip_miles\").show(5)"
      ],
      "metadata": {
        "colab": {
          "base_uri": "https://localhost:8080/"
        },
        "id": "XFGNk52ozDQn",
        "outputId": "03fca50c-9662-4c60-b369-85ce94ccdd97"
      },
      "execution_count": 7,
      "outputs": [
        {
          "output_type": "stream",
          "name": "stdout",
          "text": [
            "+------------------+----------+\n",
            "| trip_duration_min|trip_miles|\n",
            "+------------------+----------+\n",
            "|37.516666666666666|      2.83|\n",
            "|               7.2|      1.57|\n",
            "|12.183333333333334|      1.98|\n",
            "|              15.5|      1.99|\n",
            "|12.683333333333334|      2.65|\n",
            "+------------------+----------+\n",
            "only showing top 5 rows\n",
            "\n"
          ]
        }
      ]
    },
    {
      "cell_type": "markdown",
      "source": [
        "## Average trip speed"
      ],
      "metadata": {
        "id": "BR7CvtNO0a5z"
      }
    },
    {
      "cell_type": "code",
      "source": [
        "df_min = df_min.withColumn(\"avg_speed_mph\", (col(\"trip_miles\") / (col(\"trip_time\") / 3600)))\n",
        "df_min.select(\"trip_miles\", \"trip_time\", \"avg_speed_mph\").show(5)"
      ],
      "metadata": {
        "colab": {
          "base_uri": "https://localhost:8080/"
        },
        "id": "9_AKZ2RKzrDw",
        "outputId": "612808e4-af86-4c86-9ddb-a9c5d0c854c0"
      },
      "execution_count": null,
      "outputs": [
        {
          "output_type": "stream",
          "name": "stdout",
          "text": [
            "+----------+---------+------------------+\n",
            "|trip_miles|trip_time|     avg_speed_mph|\n",
            "+----------+---------+------------------+\n",
            "|      2.83|     2251| 4.525988449577965|\n",
            "|      1.57|      432|13.083333333333334|\n",
            "|      1.98|      731| 9.751025991792066|\n",
            "|      1.99|      930| 7.703225806451612|\n",
            "|      2.65|      761|12.536136662286465|\n",
            "+----------+---------+------------------+\n",
            "only showing top 5 rows\n",
            "\n"
          ]
        }
      ]
    },
    {
      "cell_type": "markdown",
      "source": [
        "## Trips by hour of day"
      ],
      "metadata": {
        "id": "y0uu9qIN0jjK"
      }
    },
    {
      "cell_type": "code",
      "source": [
        "from pyspark.sql.functions import hour\n",
        "\n",
        "df_min = df_min.withColumn(\"pickup_hour\", hour(\"pickup_datetime\"))\n",
        "df_min.groupBy(\"pickup_hour\").count().orderBy(\"pickup_hour\").show(24)"
      ],
      "metadata": {
        "colab": {
          "base_uri": "https://localhost:8080/"
        },
        "id": "2jocJGqBzuaD",
        "outputId": "f48b734b-3d97-4f7b-b609-78eac4a9289e"
      },
      "execution_count": null,
      "outputs": [
        {
          "output_type": "stream",
          "name": "stdout",
          "text": [
            "+-----------+--------+\n",
            "|pickup_hour|   count|\n",
            "+-----------+--------+\n",
            "|          0| 8850616|\n",
            "|          1| 6195085|\n",
            "|          2| 4432124|\n",
            "|          3| 3565774|\n",
            "|          4| 3698972|\n",
            "|          5| 4309730|\n",
            "|          6| 6674818|\n",
            "|          7| 9990060|\n",
            "|          8|12061861|\n",
            "|          9|11135713|\n",
            "|         10|10235532|\n",
            "|         11|10054757|\n",
            "|         12|10302206|\n",
            "|         13|10692929|\n",
            "|         14|11549695|\n",
            "|         15|11848345|\n",
            "|         16|12220722|\n",
            "|         17|13521043|\n",
            "|         18|14132501|\n",
            "|         19|13711602|\n",
            "|         20|13045453|\n",
            "|         21|12868552|\n",
            "|         22|12814289|\n",
            "|         23|11558069|\n",
            "+-----------+--------+\n",
            "\n"
          ]
        }
      ]
    },
    {
      "cell_type": "markdown",
      "source": [
        "## Average speed by trip hour"
      ],
      "metadata": {
        "id": "thr6J_UY0sJn"
      }
    },
    {
      "cell_type": "code",
      "source": [
        "df_min.groupBy(\"pickup_hour\").avg(\"avg_speed_mph\").orderBy(\"pickup_hour\").show(24)"
      ],
      "metadata": {
        "id": "N5AWJJox0e_I",
        "colab": {
          "base_uri": "https://localhost:8080/"
        },
        "outputId": "1de419d2-821e-4430-dbb7-f41b3c96d865"
      },
      "execution_count": null,
      "outputs": [
        {
          "output_type": "stream",
          "name": "stdout",
          "text": [
            "+-----------+------------------+\n",
            "|pickup_hour|avg(avg_speed_mph)|\n",
            "+-----------+------------------+\n",
            "|          0|15.892756336088146|\n",
            "|          1|16.325043808156742|\n",
            "|          2|16.953963286026177|\n",
            "|          3|  18.5969798355312|\n",
            "|          4|20.779781498455005|\n",
            "|          5| 20.39932756350472|\n",
            "|          6| 17.42317344713429|\n",
            "|          7|  14.1064628664629|\n",
            "|          8|12.841786014374426|\n",
            "|          9|13.208563747534262|\n",
            "|         10|13.218810740521793|\n",
            "|         11|12.896039900914538|\n",
            "|         12|12.600851299647239|\n",
            "|         13|12.316307747106318|\n",
            "|         14|11.621182588672829|\n",
            "|         15|11.168523903947138|\n",
            "|         16|10.960524369260611|\n",
            "|         17|10.917344630332131|\n",
            "|         18|11.594776096688337|\n",
            "|         19|12.616647591647903|\n",
            "|         20|13.659680066907146|\n",
            "|         21|14.374254345312206|\n",
            "|         22|14.770447841645177|\n",
            "|         23|15.299248801529991|\n",
            "+-----------+------------------+\n",
            "\n"
          ]
        }
      ]
    },
    {
      "cell_type": "markdown",
      "source": [
        "## Trips by day of week"
      ],
      "metadata": {
        "id": "KQYl-5Hz02Lq"
      }
    },
    {
      "cell_type": "code",
      "source": [
        "from pyspark.sql.functions import date_format\n",
        "\n",
        "df_min = df_min.withColumn(\"pickup_day\", date_format(\"pickup_datetime\", \"E\"))\n",
        "df_min.groupBy(\"pickup_day\").count().orderBy(\"pickup_day\").show()"
      ],
      "metadata": {
        "colab": {
          "base_uri": "https://localhost:8080/"
        },
        "id": "Tb3nBtVh0nvf",
        "outputId": "afd28fb9-e7d9-4fd0-a4a1-1480196e6180"
      },
      "execution_count": null,
      "outputs": [
        {
          "output_type": "stream",
          "name": "stdout",
          "text": [
            "+----------+--------+\n",
            "|pickup_day|   count|\n",
            "+----------+--------+\n",
            "|       Fri|37385964|\n",
            "|       Mon|29842126|\n",
            "|       Sat|40012026|\n",
            "|       Sun|34318757|\n",
            "|       Thu|34199906|\n",
            "|       Tue|31257546|\n",
            "|       Wed|32454123|\n",
            "+----------+--------+\n",
            "\n"
          ]
        }
      ]
    },
    {
      "cell_type": "markdown",
      "source": [
        "## Basic descriptive statistics"
      ],
      "metadata": {
        "id": "ikZo08a72X5u"
      }
    },
    {
      "cell_type": "code",
      "source": [
        "df_min.describe([\"trip_duration_min\", \"trip_miles\", \"avg_speed_mph\", \"congestion_surcharge\"]).show()"
      ],
      "metadata": {
        "id": "a-J1h-qn1Thf",
        "colab": {
          "base_uri": "https://localhost:8080/"
        },
        "outputId": "c83bfeaf-ca97-4e92-b061-ca405e5ebba4"
      },
      "execution_count": null,
      "outputs": [
        {
          "output_type": "stream",
          "name": "stdout",
          "text": [
            "+-------+------------------+-----------------+------------------+--------------------+\n",
            "|summary| trip_duration_min|       trip_miles|     avg_speed_mph|congestion_surcharge|\n",
            "+-------+------------------+-----------------+------------------+--------------------+\n",
            "|  count|         239470448|        239470448|         239470418|           239470448|\n",
            "|   mean| 20.12791464008397|5.081384419049408|13.563081717472029|  1.0391516430453247|\n",
            "| stddev|14.484228281515866|5.896975440728102|  7.19349392425426|  1.3273029585704301|\n",
            "|    min|               0.0|              0.0|               0.0|                 0.0|\n",
            "|    max| 918.9666666666667|           555.25|189.24590163934425|                8.25|\n",
            "+-------+------------------+-----------------+------------------+--------------------+\n",
            "\n"
          ]
        }
      ]
    },
    {
      "cell_type": "markdown",
      "source": [
        "## Re-run descriptive statistics"
      ],
      "metadata": {
        "id": "D-oxi24C3gne"
      }
    },
    {
      "cell_type": "code",
      "source": [
        "df_clean.describe([\"trip_duration_min\", \"trip_miles\", \"avg_speed_mph\"]).show()"
      ],
      "metadata": {
        "colab": {
          "base_uri": "https://localhost:8080/"
        },
        "id": "7KxvasVr33Rc",
        "outputId": "e4962014-4b98-4970-cdcc-e8b95372208d"
      },
      "execution_count": null,
      "outputs": [
        {
          "output_type": "stream",
          "name": "stdout",
          "text": [
            "+-------+------------------+-----------------+------------------+\n",
            "|summary| trip_duration_min|       trip_miles|     avg_speed_mph|\n",
            "+-------+------------------+-----------------+------------------+\n",
            "|  count|         239246922|        239246922|         239246922|\n",
            "|   mean|20.068129666540365|5.055787728558447|13.562186810622977|\n",
            "| stddev|14.181214475132856|5.702410852488753| 7.179451612441374|\n",
            "|    min|               1.0|              0.1|               1.0|\n",
            "|    max|             120.0|            100.0| 79.80560747663552|\n",
            "+-------+------------------+-----------------+------------------+\n",
            "\n"
          ]
        }
      ]
    },
    {
      "cell_type": "markdown",
      "source": [
        "## Recheck the descriptive statistics"
      ],
      "metadata": {
        "id": "JdYMPHudDrzY"
      }
    },
    {
      "cell_type": "code",
      "source": [
        "df_final.describe([\"trip_duration_min\", \"trip_miles\", \"avg_speed_mph\"]).show()"
      ],
      "metadata": {
        "colab": {
          "base_uri": "https://localhost:8080/"
        },
        "id": "DFUrluoe9Xu0",
        "outputId": "428a172c-e395-4a0f-fe1a-0b73932b4cf9"
      },
      "execution_count": null,
      "outputs": [
        {
          "output_type": "stream",
          "name": "stdout",
          "text": [
            "+-------+------------------+------------------+------------------+\n",
            "|summary| trip_duration_min|        trip_miles|     avg_speed_mph|\n",
            "+-------+------------------+------------------+------------------+\n",
            "|  count|         211743856|         211743856|         211743856|\n",
            "|   mean|  17.0333728900894|3.5507916982677523|12.010186126840958|\n",
            "| stddev| 9.759759994076635|2.8023403897664427| 5.064293342779409|\n",
            "|    min|               1.0|               0.1|               1.0|\n",
            "|    max|49.516666666666666|            13.425|27.841621621621623|\n",
            "+-------+------------------+------------------+------------------+\n",
            "\n"
          ]
        }
      ]
    },
    {
      "cell_type": "code",
      "source": [
        "df_final.printSchema()"
      ],
      "metadata": {
        "colab": {
          "base_uri": "https://localhost:8080/"
        },
        "id": "QdcxlLcFDGJy",
        "outputId": "bc049695-f78a-4e28-ba4a-81fdb6c46df7"
      },
      "execution_count": null,
      "outputs": [
        {
          "output_type": "stream",
          "name": "stdout",
          "text": [
            "root\n",
            " |-- pickup_datetime: timestamp_ntz (nullable = true)\n",
            " |-- trip_miles: double (nullable = true)\n",
            " |-- trip_time: long (nullable = true)\n",
            " |-- congestion_surcharge: double (nullable = true)\n",
            " |-- trip_duration_min: double (nullable = true)\n",
            " |-- avg_speed_mph: double (nullable = true)\n",
            " |-- pickup_hour: integer (nullable = true)\n",
            " |-- pickup_day: string (nullable = true)\n",
            " |-- trip_provider: string (nullable = false)\n",
            "\n"
          ]
        }
      ]
    },
    {
      "cell_type": "code",
      "source": [
        "df_final.show(10, truncate=False)"
      ],
      "metadata": {
        "id": "ibtYzakw9ewz",
        "outputId": "3e9447ac-d0ca-4e9c-ade2-b4cb502269e8",
        "colab": {
          "base_uri": "https://localhost:8080/"
        }
      },
      "execution_count": null,
      "outputs": [
        {
          "output_type": "stream",
          "name": "stdout",
          "text": [
            "+-------------------+----------+---------+--------------------+------------------+------------------+-----------+----------+-------------+\n",
            "|pickup_datetime    |trip_miles|trip_time|congestion_surcharge|trip_duration_min |avg_speed_mph     |pickup_hour|pickup_day|trip_provider|\n",
            "+-------------------+----------+---------+--------------------+------------------+------------------+-----------+----------+-------------+\n",
            "|2024-01-01 00:28:08|2.83      |2251     |2.75                |37.516666666666666|4.525988449577965 |0          |Mon       |U            |\n",
            "|2024-01-01 00:12:53|1.57      |432      |2.75                |7.2               |13.083333333333334|0          |Mon       |U            |\n",
            "|2024-01-01 00:23:05|1.98      |731      |2.75                |12.183333333333334|9.751025991792066 |0          |Mon       |U            |\n",
            "|2024-01-01 00:41:04|1.99      |930      |2.75                |15.5              |7.703225806451612 |0          |Mon       |U            |\n",
            "|2024-01-01 00:57:21|2.65      |761      |2.75                |12.683333333333334|12.536136662286465|0          |Mon       |U            |\n",
            "|2024-01-01 00:06:15|7.02      |1298     |0.0                 |21.633333333333333|19.46995377503852 |0          |Mon       |U            |\n",
            "|2024-01-01 00:57:50|3.43      |817      |0.0                 |13.616666666666667|15.113831089351285|0          |Mon       |U            |\n",
            "|2024-01-01 00:16:00|1.54      |733      |2.75                |12.216666666666667|7.563437926330151 |0          |Mon       |U            |\n",
            "|2024-01-01 00:33:15|1.72      |804      |2.75                |13.4              |7.701492537313433 |0          |Mon       |U            |\n",
            "|2024-01-01 00:27:59|4.272     |1332     |2.75                |22.2              |11.545945945945947|0          |Mon       |L            |\n",
            "+-------------------+----------+---------+--------------------+------------------+------------------+-----------+----------+-------------+\n",
            "only showing top 10 rows\n",
            "\n"
          ]
        }
      ]
    },
    {
      "cell_type": "code",
      "source": [
        "df_final.describe([\"congestion_surcharge\"]).show()"
      ],
      "metadata": {
        "id": "7kDOiVyd_Spf",
        "outputId": "361d2d39-0187-42ee-b28d-2020dee0a873",
        "colab": {
          "base_uri": "https://localhost:8080/"
        }
      },
      "execution_count": null,
      "outputs": [
        {
          "output_type": "stream",
          "name": "stdout",
          "text": [
            "+-------+--------------------+\n",
            "|summary|congestion_surcharge|\n",
            "+-------+--------------------+\n",
            "|  count|           211743856|\n",
            "|   mean|  1.0354683514406198|\n",
            "| stddev|  1.3267091227893713|\n",
            "|    min|                 0.0|\n",
            "|    max|                8.25|\n",
            "+-------+--------------------+\n",
            "\n"
          ]
        }
      ]
    },
    {
      "cell_type": "markdown",
      "source": [
        "# File Sizes\n",
        "\n",
        "- Original dataset - 5.51GB\n",
        "- Final dataset - 3.49GB"
      ],
      "metadata": {
        "id": "jft53wu3GTlf"
      }
    },
    {
      "cell_type": "code",
      "source": [
        "df_final.count()"
      ],
      "metadata": {
        "id": "-QxasgWPGVZc",
        "outputId": "8c51e50b-f06a-4ca4-fcdc-b0bff025f45b",
        "colab": {
          "base_uri": "https://localhost:8080/"
        }
      },
      "execution_count": 21,
      "outputs": [
        {
          "output_type": "execute_result",
          "data": {
            "text/plain": [
              "211743856"
            ]
          },
          "metadata": {},
          "execution_count": 21
        }
      ]
    },
    {
      "cell_type": "code",
      "source": [],
      "metadata": {
        "id": "xMiFW5nRm51U"
      },
      "execution_count": null,
      "outputs": []
    }
  ]
}